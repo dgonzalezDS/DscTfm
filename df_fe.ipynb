{
 "cells": [
  {
   "cell_type": "code",
   "execution_count": 1,
   "metadata": {},
   "outputs": [],
   "source": [
    "import pandas as pd\n",
    "import numpy as np\n",
    "import matplotlib.pyplot as plt\n",
    "import seaborn as sns\n",
    "\n",
    "from sklearn.preprocessing import LabelEncoder,MinMaxScaler,OrdinalEncoder\n",
    "\n",
    "import folium\n",
    "import plotly.express as px"
   ]
  },
  {
   "cell_type": "code",
   "execution_count": 2,
   "metadata": {},
   "outputs": [],
   "source": [
    "df_clean=pd.read_csv(\"clean_data.csv\")"
   ]
  },
  {
   "cell_type": "code",
   "execution_count": null,
   "metadata": {},
   "outputs": [],
   "source": [
    "#Como vimos al inicio, no hay registros duplicados, pero sin embargo en la columna pk_cid (identificador de cliente), hay cliente que aparecen hasta 17 veces en los registros\n",
    "#Esto parece indicar que un mismo cliente puede contratar varios servicios en distintas fechas, lo cual es lógico, pero sería interesante tenerlo en cuenta, ya que puede indicar la predisposicion del cliente a contratar mas productos\n",
    "#Vamos a crear una columna nueva, llamada \"cliente_habitual\" que indicará con un 1 si el cliente ha contratado más que la media y con un 0 si ha contratado menos que la media\n",
    "\n",
    "#REVISAR#!!\n",
    "\n",
    "##TAMBIEN PODRIA SER LA MEDIA DE LA ANTIGÜEDAD DE LOS CLIENTES ##!!\n",
    "\n",
    "df_clean['cliente_habitual'] = (df_clean.groupby('pk_cid')['pk_cid']\n",
    "                             .transform('count') > df_clean[\"pk_cid\"].value_counts().mean()).astype(int)"
   ]
  },
  {
   "cell_type": "code",
   "execution_count": null,
   "metadata": {},
   "outputs": [],
   "source": [
    "df_clean[\"cliente_habitual\"].value_counts()"
   ]
  },
  {
   "cell_type": "code",
   "execution_count": null,
   "metadata": {},
   "outputs": [],
   "source": [
    "df_clean['Financiacion'] = df_clean[['credit_card', 'debit_card', 'loans', 'mortgage', 'securities']].any(axis=1).astype(int)"
   ]
  }
 ],
 "metadata": {
  "kernelspec": {
   "display_name": "Python 3",
   "language": "python",
   "name": "python3"
  },
  "language_info": {
   "codemirror_mode": {
    "name": "ipython",
    "version": 3
   },
   "file_extension": ".py",
   "mimetype": "text/x-python",
   "name": "python",
   "nbconvert_exporter": "python",
   "pygments_lexer": "ipython3",
   "version": "3.12.1"
  }
 },
 "nbformat": 4,
 "nbformat_minor": 2
}
