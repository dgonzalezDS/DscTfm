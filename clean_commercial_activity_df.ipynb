{
 "cells": [
  {
   "cell_type": "code",
   "execution_count": 1,
   "metadata": {},
   "outputs": [],
   "source": [
    "#Esto es un cuaderno, para realizar el proyecto paso a paso"
   ]
  },
  {
   "cell_type": "markdown",
   "metadata": {},
   "source": [
    "Importamos librerias necesarias en la limpieza de datos (no olvidar instalar las libreras necesarias con pip install .. antes de importarlas)"
   ]
  },
  {
   "cell_type": "code",
   "execution_count": 2,
   "metadata": {},
   "outputs": [],
   "source": [
    "import pandas as pd\n",
    "import numpy as np\n",
    "import matplotlib.pyplot as plt\n",
    "import seaborn as sns\n",
    "\n",
    "from sklearn.preprocessing import LabelEncoder,MinMaxScaler,OrdinalEncoder\n",
    "\n",
    "import folium\n",
    "import plotly.express as px\n"
   ]
  },
  {
   "cell_type": "markdown",
   "metadata": {},
   "source": [
    "Leemos el primer csv, y lo asignamos como nuestro dataframe. Imprimimos las primeras lineas para tener una idea del dataframe"
   ]
  },
  {
   "cell_type": "code",
   "execution_count": 3,
   "metadata": {},
   "outputs": [
    {
     "name": "stdout",
     "output_type": "stream",
     "text": [
      "   Unnamed: 0   pk_cid pk_partition  entry_date entry_channel  \\\n",
      "0           0  1375586   2018-01-28  2018-01-12           KHL   \n",
      "1           1  1050611   2018-01-28  2015-08-10           KHE   \n",
      "2           2  1050612   2018-01-28  2015-08-10           KHE   \n",
      "3           3  1050613   2018-01-28  2015-08-10           KHD   \n",
      "4           4  1050614   2018-01-28  2015-08-10           KHE   \n",
      "\n",
      "   active_customer             segment  \n",
      "0              1.0   02 - PARTICULARES  \n",
      "1              0.0  03 - UNIVERSITARIO  \n",
      "2              0.0  03 - UNIVERSITARIO  \n",
      "3              0.0  03 - UNIVERSITARIO  \n",
      "4              1.0  03 - UNIVERSITARIO  \n"
     ]
    }
   ],
   "source": [
    "df_ca=pd.read_csv(\"commercial_activity_df.csv\")\n",
    "print(df_ca.head())"
   ]
  },
  {
   "cell_type": "markdown",
   "metadata": {},
   "source": [
    "Obtenemos informacion general del dataframe con  los metodos .describe() e .info()"
   ]
  },
  {
   "cell_type": "code",
   "execution_count": 4,
   "metadata": {},
   "outputs": [
    {
     "name": "stdout",
     "output_type": "stream",
     "text": [
      "<class 'pandas.core.frame.DataFrame'>\n",
      "RangeIndex: 5962924 entries, 0 to 5962923\n",
      "Data columns (total 7 columns):\n",
      " #   Column           Dtype  \n",
      "---  ------           -----  \n",
      " 0   Unnamed: 0       int64  \n",
      " 1   pk_cid           int64  \n",
      " 2   pk_partition     object \n",
      " 3   entry_date       object \n",
      " 4   entry_channel    object \n",
      " 5   active_customer  float64\n",
      " 6   segment          object \n",
      "dtypes: float64(1), int64(2), object(4)\n",
      "memory usage: 318.5+ MB\n"
     ]
    }
   ],
   "source": [
    "df_ca.info()"
   ]
  },
  {
   "cell_type": "markdown",
   "metadata": {},
   "source": [
    "Vemos que existe una columna de numeros, que coincide con el numero de los registros, pero que no es el indice, llamada Unnamed. Vamos a cambiar el nombre a esta columna y asignarla como indice."
   ]
  },
  {
   "cell_type": "code",
   "execution_count": 5,
   "metadata": {},
   "outputs": [],
   "source": [
    "n_index = 'Index'\n",
    "df_ca = df_ca.rename_axis(n_index).reset_index()"
   ]
  },
  {
   "cell_type": "code",
   "execution_count": 6,
   "metadata": {},
   "outputs": [],
   "source": [
    "df_ca.set_index('Index', inplace=True)"
   ]
  },
  {
   "cell_type": "markdown",
   "metadata": {},
   "source": [
    "Comprobamos que el indice ahora es correcto, pero nos sobra la columna Unnamed, la borramos con del"
   ]
  },
  {
   "cell_type": "code",
   "execution_count": 7,
   "metadata": {},
   "outputs": [
    {
     "name": "stdout",
     "output_type": "stream",
     "text": [
      "       Unnamed: 0   pk_cid pk_partition  entry_date entry_channel  \\\n",
      "Index                                                               \n",
      "0               0  1375586   2018-01-28  2018-01-12           KHL   \n",
      "1               1  1050611   2018-01-28  2015-08-10           KHE   \n",
      "2               2  1050612   2018-01-28  2015-08-10           KHE   \n",
      "3               3  1050613   2018-01-28  2015-08-10           KHD   \n",
      "4               4  1050614   2018-01-28  2015-08-10           KHE   \n",
      "\n",
      "       active_customer             segment  \n",
      "Index                                       \n",
      "0                  1.0   02 - PARTICULARES  \n",
      "1                  0.0  03 - UNIVERSITARIO  \n",
      "2                  0.0  03 - UNIVERSITARIO  \n",
      "3                  0.0  03 - UNIVERSITARIO  \n",
      "4                  1.0  03 - UNIVERSITARIO  \n"
     ]
    }
   ],
   "source": [
    "print(df_ca.head())"
   ]
  },
  {
   "cell_type": "code",
   "execution_count": 8,
   "metadata": {},
   "outputs": [],
   "source": [
    "del(df_ca[\"Unnamed: 0\"])"
   ]
  },
  {
   "cell_type": "code",
   "execution_count": 9,
   "metadata": {},
   "outputs": [
    {
     "name": "stdout",
     "output_type": "stream",
     "text": [
      "        pk_cid pk_partition  entry_date entry_channel  active_customer  \\\n",
      "Index                                                                    \n",
      "0      1375586   2018-01-28  2018-01-12           KHL              1.0   \n",
      "1      1050611   2018-01-28  2015-08-10           KHE              0.0   \n",
      "2      1050612   2018-01-28  2015-08-10           KHE              0.0   \n",
      "3      1050613   2018-01-28  2015-08-10           KHD              0.0   \n",
      "4      1050614   2018-01-28  2015-08-10           KHE              1.0   \n",
      "\n",
      "                  segment  \n",
      "Index                      \n",
      "0       02 - PARTICULARES  \n",
      "1      03 - UNIVERSITARIO  \n",
      "2      03 - UNIVERSITARIO  \n",
      "3      03 - UNIVERSITARIO  \n",
      "4      03 - UNIVERSITARIO  \n"
     ]
    }
   ],
   "source": [
    "print(df_ca.head())"
   ]
  },
  {
   "cell_type": "markdown",
   "metadata": {},
   "source": [
    "Tambien cambiaremos las columnas \"pk_partition\" y \"entry_date\" a formato fecha"
   ]
  },
  {
   "cell_type": "code",
   "execution_count": 10,
   "metadata": {},
   "outputs": [],
   "source": [
    "for i in [\"pk_partition\",\"entry_date\"]:\n",
    "    df_ca[i]=pd.to_datetime(df_ca[i],format='%Y-%m-%d',errors=\"coerce\")\n"
   ]
  },
  {
   "cell_type": "markdown",
   "metadata": {},
   "source": [
    "### CONSULTAR PORQUE ESTO ME METE NULOS, CUANDO NO LOS HABIA\"\n"
   ]
  },
  {
   "cell_type": "markdown",
   "metadata": {},
   "source": [
    "Aparece un error al cambiar el formato de las fechas, vamos a tratarlo y volveremos a ejecutarlo\n"
   ]
  },
  {
   "cell_type": "code",
   "execution_count": 11,
   "metadata": {},
   "outputs": [
    {
     "data": {
      "text/plain": [
       "pk_cid                         1051705\n",
       "pk_partition       2018-01-28 00:00:00\n",
       "entry_date         2015-08-14 00:00:00\n",
       "entry_channel                      KHD\n",
       "active_customer                    0.0\n",
       "segment             03 - UNIVERSITARIO\n",
       "Name: 688, dtype: object"
      ]
     },
     "execution_count": 11,
     "metadata": {},
     "output_type": "execute_result"
    }
   ],
   "source": [
    "df_ca.loc[688]"
   ]
  },
  {
   "cell_type": "code",
   "execution_count": 12,
   "metadata": {},
   "outputs": [
    {
     "name": "stdout",
     "output_type": "stream",
     "text": [
      "<class 'pandas.core.frame.DataFrame'>\n",
      "Index: 5962924 entries, 0 to 5962923\n",
      "Data columns (total 6 columns):\n",
      " #   Column           Dtype         \n",
      "---  ------           -----         \n",
      " 0   pk_cid           int64         \n",
      " 1   pk_partition     datetime64[ns]\n",
      " 2   entry_date       datetime64[ns]\n",
      " 3   entry_channel    object        \n",
      " 4   active_customer  float64       \n",
      " 5   segment          object        \n",
      "dtypes: datetime64[ns](2), float64(1), int64(1), object(2)\n",
      "memory usage: 318.5+ MB\n"
     ]
    }
   ],
   "source": [
    "df_ca.info()"
   ]
  },
  {
   "cell_type": "markdown",
   "metadata": {},
   "source": [
    "Comenzamos ahora la busqueda de nulos\n"
   ]
  },
  {
   "cell_type": "code",
   "execution_count": 13,
   "metadata": {},
   "outputs": [
    {
     "data": {
      "text/plain": [
       "pk_cid             False\n",
       "pk_partition       False\n",
       "entry_date          True\n",
       "entry_channel       True\n",
       "active_customer    False\n",
       "segment             True\n",
       "dtype: bool"
      ]
     },
     "execution_count": 13,
     "metadata": {},
     "output_type": "execute_result"
    }
   ],
   "source": [
    "df_ca.isnull().any()"
   ]
  },
  {
   "cell_type": "code",
   "execution_count": 14,
   "metadata": {},
   "outputs": [
    {
     "data": {
      "text/plain": [
       "6413"
      ]
     },
     "execution_count": 14,
     "metadata": {},
     "output_type": "execute_result"
    }
   ],
   "source": [
    "df_ca[\"entry_date\"].isna().sum()"
   ]
  },
  {
   "cell_type": "code",
   "execution_count": 15,
   "metadata": {},
   "outputs": [],
   "source": [
    "df_ca.dropna(subset = [\"entry_date\"], inplace=True)"
   ]
  },
  {
   "cell_type": "markdown",
   "metadata": {},
   "source": [
    "Existen dos columnas con nulos, vamos a ver cuantos son"
   ]
  },
  {
   "cell_type": "code",
   "execution_count": 16,
   "metadata": {},
   "outputs": [
    {
     "data": {
      "text/plain": [
       "pk_cid                  0\n",
       "pk_partition            0\n",
       "entry_date              0\n",
       "entry_channel      132083\n",
       "active_customer         0\n",
       "segment            133009\n",
       "dtype: int64"
      ]
     },
     "execution_count": 16,
     "metadata": {},
     "output_type": "execute_result"
    }
   ],
   "source": [
    "df_ca.isnull().sum()"
   ]
  },
  {
   "cell_type": "code",
   "execution_count": 17,
   "metadata": {},
   "outputs": [
    {
     "data": {
      "text/html": [
       "<div>\n",
       "<style scoped>\n",
       "    .dataframe tbody tr th:only-of-type {\n",
       "        vertical-align: middle;\n",
       "    }\n",
       "\n",
       "    .dataframe tbody tr th {\n",
       "        vertical-align: top;\n",
       "    }\n",
       "\n",
       "    .dataframe thead th {\n",
       "        text-align: right;\n",
       "    }\n",
       "</style>\n",
       "<table border=\"1\" class=\"dataframe\">\n",
       "  <thead>\n",
       "    <tr style=\"text-align: right;\">\n",
       "      <th></th>\n",
       "      <th>pk_cid</th>\n",
       "      <th>pk_partition</th>\n",
       "      <th>entry_date</th>\n",
       "      <th>entry_channel</th>\n",
       "      <th>active_customer</th>\n",
       "      <th>segment</th>\n",
       "    </tr>\n",
       "    <tr>\n",
       "      <th>Index</th>\n",
       "      <th></th>\n",
       "      <th></th>\n",
       "      <th></th>\n",
       "      <th></th>\n",
       "      <th></th>\n",
       "      <th></th>\n",
       "    </tr>\n",
       "  </thead>\n",
       "  <tbody>\n",
       "    <tr>\n",
       "      <th>0</th>\n",
       "      <td>1375586</td>\n",
       "      <td>2018-01-28</td>\n",
       "      <td>2018-01-12</td>\n",
       "      <td>KHL</td>\n",
       "      <td>1.0</td>\n",
       "      <td>02 - PARTICULARES</td>\n",
       "    </tr>\n",
       "    <tr>\n",
       "      <th>1</th>\n",
       "      <td>1050611</td>\n",
       "      <td>2018-01-28</td>\n",
       "      <td>2015-08-10</td>\n",
       "      <td>KHE</td>\n",
       "      <td>0.0</td>\n",
       "      <td>03 - UNIVERSITARIO</td>\n",
       "    </tr>\n",
       "    <tr>\n",
       "      <th>2</th>\n",
       "      <td>1050612</td>\n",
       "      <td>2018-01-28</td>\n",
       "      <td>2015-08-10</td>\n",
       "      <td>KHE</td>\n",
       "      <td>0.0</td>\n",
       "      <td>03 - UNIVERSITARIO</td>\n",
       "    </tr>\n",
       "    <tr>\n",
       "      <th>3</th>\n",
       "      <td>1050613</td>\n",
       "      <td>2018-01-28</td>\n",
       "      <td>2015-08-10</td>\n",
       "      <td>KHD</td>\n",
       "      <td>0.0</td>\n",
       "      <td>03 - UNIVERSITARIO</td>\n",
       "    </tr>\n",
       "    <tr>\n",
       "      <th>4</th>\n",
       "      <td>1050614</td>\n",
       "      <td>2018-01-28</td>\n",
       "      <td>2015-08-10</td>\n",
       "      <td>KHE</td>\n",
       "      <td>1.0</td>\n",
       "      <td>03 - UNIVERSITARIO</td>\n",
       "    </tr>\n",
       "    <tr>\n",
       "      <th>5</th>\n",
       "      <td>1050615</td>\n",
       "      <td>2018-01-28</td>\n",
       "      <td>2015-08-10</td>\n",
       "      <td>KHE</td>\n",
       "      <td>0.0</td>\n",
       "      <td>03 - UNIVERSITARIO</td>\n",
       "    </tr>\n",
       "    <tr>\n",
       "      <th>6</th>\n",
       "      <td>1050616</td>\n",
       "      <td>2018-01-28</td>\n",
       "      <td>2015-08-10</td>\n",
       "      <td>KHE</td>\n",
       "      <td>0.0</td>\n",
       "      <td>03 - UNIVERSITARIO</td>\n",
       "    </tr>\n",
       "    <tr>\n",
       "      <th>7</th>\n",
       "      <td>1050617</td>\n",
       "      <td>2018-01-28</td>\n",
       "      <td>2015-08-10</td>\n",
       "      <td>KHE</td>\n",
       "      <td>1.0</td>\n",
       "      <td>03 - UNIVERSITARIO</td>\n",
       "    </tr>\n",
       "    <tr>\n",
       "      <th>8</th>\n",
       "      <td>1050619</td>\n",
       "      <td>2018-01-28</td>\n",
       "      <td>2015-08-10</td>\n",
       "      <td>KHE</td>\n",
       "      <td>0.0</td>\n",
       "      <td>03 - UNIVERSITARIO</td>\n",
       "    </tr>\n",
       "    <tr>\n",
       "      <th>9</th>\n",
       "      <td>1050620</td>\n",
       "      <td>2018-01-28</td>\n",
       "      <td>2015-08-10</td>\n",
       "      <td>KHE</td>\n",
       "      <td>0.0</td>\n",
       "      <td>03 - UNIVERSITARIO</td>\n",
       "    </tr>\n",
       "  </tbody>\n",
       "</table>\n",
       "</div>"
      ],
      "text/plain": [
       "        pk_cid pk_partition entry_date entry_channel  active_customer  \\\n",
       "Index                                                                   \n",
       "0      1375586   2018-01-28 2018-01-12           KHL              1.0   \n",
       "1      1050611   2018-01-28 2015-08-10           KHE              0.0   \n",
       "2      1050612   2018-01-28 2015-08-10           KHE              0.0   \n",
       "3      1050613   2018-01-28 2015-08-10           KHD              0.0   \n",
       "4      1050614   2018-01-28 2015-08-10           KHE              1.0   \n",
       "5      1050615   2018-01-28 2015-08-10           KHE              0.0   \n",
       "6      1050616   2018-01-28 2015-08-10           KHE              0.0   \n",
       "7      1050617   2018-01-28 2015-08-10           KHE              1.0   \n",
       "8      1050619   2018-01-28 2015-08-10           KHE              0.0   \n",
       "9      1050620   2018-01-28 2015-08-10           KHE              0.0   \n",
       "\n",
       "                  segment  \n",
       "Index                      \n",
       "0       02 - PARTICULARES  \n",
       "1      03 - UNIVERSITARIO  \n",
       "2      03 - UNIVERSITARIO  \n",
       "3      03 - UNIVERSITARIO  \n",
       "4      03 - UNIVERSITARIO  \n",
       "5      03 - UNIVERSITARIO  \n",
       "6      03 - UNIVERSITARIO  \n",
       "7      03 - UNIVERSITARIO  \n",
       "8      03 - UNIVERSITARIO  \n",
       "9      03 - UNIVERSITARIO  "
      ]
     },
     "execution_count": 17,
     "metadata": {},
     "output_type": "execute_result"
    }
   ],
   "source": [
    "df_ca.head(10)"
   ]
  },
  {
   "cell_type": "markdown",
   "metadata": {},
   "source": [
    "Ahora contaremos los posibles duplicados que haya, si los hay"
   ]
  },
  {
   "cell_type": "code",
   "execution_count": 18,
   "metadata": {},
   "outputs": [
    {
     "name": "stdout",
     "output_type": "stream",
     "text": [
      "<class 'pandas.core.frame.DataFrame'>\n",
      "Index: 0 entries\n",
      "Data columns (total 6 columns):\n",
      " #   Column           Non-Null Count  Dtype         \n",
      "---  ------           --------------  -----         \n",
      " 0   pk_cid           0 non-null      int64         \n",
      " 1   pk_partition     0 non-null      datetime64[ns]\n",
      " 2   entry_date       0 non-null      datetime64[ns]\n",
      " 3   entry_channel    0 non-null      object        \n",
      " 4   active_customer  0 non-null      float64       \n",
      " 5   segment          0 non-null      object        \n",
      "dtypes: datetime64[ns](2), float64(1), int64(1), object(2)\n",
      "memory usage: 0.0+ bytes\n"
     ]
    }
   ],
   "source": [
    "df_ca[df_ca.duplicated()].info()"
   ]
  },
  {
   "cell_type": "markdown",
   "metadata": {},
   "source": [
    "Ahora echaremos un vistazo al dataframe con un histrograma"
   ]
  },
  {
   "cell_type": "code",
   "execution_count": 19,
   "metadata": {},
   "outputs": [
    {
     "data": {
      "text/plain": [
       "array([[<Axes: title={'center': 'pk_cid'}>,\n",
       "        <Axes: title={'center': 'pk_partition'}>],\n",
       "       [<Axes: title={'center': 'entry_date'}>,\n",
       "        <Axes: title={'center': 'active_customer'}>]], dtype=object)"
      ]
     },
     "execution_count": 19,
     "metadata": {},
     "output_type": "execute_result"
    },
    {
     "data": {
      "image/png": "[encoded data removed]",
      "text/plain": [
       "<Figure size 640x480 with 4 Axes>"
      ]
     },
     "metadata": {},
     "output_type": "display_data"
    }
   ],
   "source": [
    "df_ca.hist()"
   ]
  },
  {
   "cell_type": "markdown",
   "metadata": {},
   "source": [
    "Vemos la distribucion de entry channel, y eliminaremos todas las filas que contengan un valor de \"entry_channel\" inferior al 1% del total de registros del dataset (aprox 6M -> 0.1 % -> 6k)"
   ]
  },
  {
   "cell_type": "code",
   "execution_count": 20,
   "metadata": {},
   "outputs": [
    {
     "data": {
      "text/plain": [
       "entry_channel\n",
       "KHE    3113947\n",
       "KFC     889944\n",
       "KHQ     590280\n",
       "KAT     415870\n",
       "KHK     230182\n",
       "        ...   \n",
       "KES         11\n",
       "KEJ          8\n",
       "KHS          5\n",
       "KDA          2\n",
       "KFP          2\n",
       "Name: count, Length: 67, dtype: int64"
      ]
     },
     "execution_count": 20,
     "metadata": {},
     "output_type": "execute_result"
    }
   ],
   "source": [
    "df_ca[\"entry_channel\"].value_counts()"
   ]
  },
  {
   "cell_type": "code",
   "execution_count": 21,
   "metadata": {},
   "outputs": [],
   "source": [
    "def obten_lista_eliminar(dataset, columna, umbral):\n",
    "  lista_borrar= []  \n",
    "  tabla=dataset[columna].value_counts().reset_index()\n",
    "  print(tabla)\n",
    "  for i in range(0,len(tabla)):\n",
    "    if (tabla.iloc[i][\"count\"]) < umbral:\n",
    "      lista_borrar.append(tabla.iloc[i][columna])\n",
    "  return lista_borrar\n"
   ]
  },
  {
   "cell_type": "code",
   "execution_count": 22,
   "metadata": {},
   "outputs": [],
   "source": [
    "#Esta función nos permite eliminar valores con pocos registros, ya que son menos representativos. El umbral elegido de 6000 es aprox el 1% de los registros totales. Esto quiere decir que si en esta columna, hay un valor que se repita menos de 6000 veces, será eliminado"
   ]
  },
  {
   "cell_type": "code",
   "execution_count": 23,
   "metadata": {},
   "outputs": [
    {
     "name": "stdout",
     "output_type": "stream",
     "text": [
      "   entry_channel    count\n",
      "0            KHE  3113947\n",
      "1            KFC   889944\n",
      "2            KHQ   590280\n",
      "3            KAT   415870\n",
      "4            KHK   230182\n",
      "..           ...      ...\n",
      "62           KES       11\n",
      "63           KEJ        8\n",
      "64           KHS        5\n",
      "65           KDA        2\n",
      "66           KFP        2\n",
      "\n",
      "[67 rows x 2 columns]\n"
     ]
    }
   ],
   "source": [
    "lista_eliminar_entry = obten_lista_eliminar(df_ca, \"entry_channel\", 6000)\n"
   ]
  },
  {
   "cell_type": "code",
   "execution_count": 24,
   "metadata": {},
   "outputs": [],
   "source": [
    "def eliminar_lista_df(dataset, columna, lista_eliminar):\n",
    "  dataset.drop(dataset[dataset[columna].isin(lista_eliminar)].index, inplace=True)\n",
    "\n",
    "\n"
   ]
  },
  {
   "cell_type": "code",
   "execution_count": 25,
   "metadata": {},
   "outputs": [],
   "source": [
    "eliminar_lista_df(df_ca,\"entry_channel\",lista_eliminar_entry)"
   ]
  },
  {
   "cell_type": "code",
   "execution_count": 26,
   "metadata": {},
   "outputs": [
    {
     "data": {
      "text/plain": [
       "entry_channel\n",
       "KHE    3113947\n",
       "KFC     889944\n",
       "KHQ     590280\n",
       "KAT     415870\n",
       "KHK     230182\n",
       "KHM     173527\n",
       "KHN     107919\n",
       "KFA      78910\n",
       "KHD      75130\n",
       "RED      60560\n",
       "KHL      41736\n",
       "KHF      20657\n",
       "KHO       8238\n",
       "Name: count, dtype: int64"
      ]
     },
     "execution_count": 26,
     "metadata": {},
     "output_type": "execute_result"
    }
   ],
   "source": [
    "df_ca[\"entry_channel\"].value_counts()"
   ]
  },
  {
   "cell_type": "code",
   "execution_count": 27,
   "metadata": {},
   "outputs": [
    {
     "data": {
      "text/plain": [
       "segment\n",
       "03 - UNIVERSITARIO    3896244\n",
       "02 - PARTICULARES     1813143\n",
       "01 - TOP                96673\n",
       "Name: count, dtype: int64"
      ]
     },
     "execution_count": 27,
     "metadata": {},
     "output_type": "execute_result"
    }
   ],
   "source": [
    "#Exploramos ahora la otra columna con nulos, \"segment\"\n",
    "\n",
    "df_ca[\"segment\"].value_counts()"
   ]
  },
  {
   "cell_type": "code",
   "execution_count": 28,
   "metadata": {},
   "outputs": [
    {
     "name": "stderr",
     "output_type": "stream",
     "text": [
      "C:\\Users\\Usuario\\AppData\\Local\\Temp\\ipykernel_21856\\1937004378.py:4: FutureWarning: A value is trying to be set on a copy of a DataFrame or Series through chained assignment using an inplace method.\n",
      "The behavior will change in pandas 3.0. This inplace method will never work because the intermediate object on which we are setting values always behaves as a copy.\n",
      "\n",
      "For example, when doing 'df[col].method(value, inplace=True)', try using 'df.method({col: value}, inplace=True)' or df[col] = df[col].method(value) instead, to perform the operation inplace on the original object.\n",
      "\n",
      "\n",
      "  df_ca['segment'].fillna(df_ca['segment'].mode().iloc[0],inplace = True)\n"
     ]
    }
   ],
   "source": [
    "#Vemos que universitario es el valor más repetido, y podriamos imputar los nulos como universitarios, ya que los 132k de nulos no representan una gran diferencia, pero esto podría suponer \"falsear\" los datos.\n",
    "#Sería una buena aproximación inicial, pero HAY QUE REFINARLO EN PROXIMOS PASOS\n",
    "\n",
    "df_ca['segment'].fillna(df_ca['segment'].mode().iloc[0],inplace = True)\n"
   ]
  },
  {
   "cell_type": "code",
   "execution_count": 29,
   "metadata": {},
   "outputs": [
    {
     "data": {
      "text/html": [
       "<div>\n",
       "<style scoped>\n",
       "    .dataframe tbody tr th:only-of-type {\n",
       "        vertical-align: middle;\n",
       "    }\n",
       "\n",
       "    .dataframe tbody tr th {\n",
       "        vertical-align: top;\n",
       "    }\n",
       "\n",
       "    .dataframe thead th {\n",
       "        text-align: right;\n",
       "    }\n",
       "</style>\n",
       "<table border=\"1\" class=\"dataframe\">\n",
       "  <thead>\n",
       "    <tr style=\"text-align: right;\">\n",
       "      <th></th>\n",
       "      <th>pk_cid</th>\n",
       "      <th>pk_partition</th>\n",
       "      <th>entry_date</th>\n",
       "      <th>entry_channel</th>\n",
       "      <th>active_customer</th>\n",
       "      <th>segment</th>\n",
       "    </tr>\n",
       "    <tr>\n",
       "      <th>Index</th>\n",
       "      <th></th>\n",
       "      <th></th>\n",
       "      <th></th>\n",
       "      <th></th>\n",
       "      <th></th>\n",
       "      <th></th>\n",
       "    </tr>\n",
       "  </thead>\n",
       "  <tbody>\n",
       "  </tbody>\n",
       "</table>\n",
       "</div>"
      ],
      "text/plain": [
       "Empty DataFrame\n",
       "Columns: [pk_cid, pk_partition, entry_date, entry_channel, active_customer, segment]\n",
       "Index: []"
      ]
     },
     "execution_count": 29,
     "metadata": {},
     "output_type": "execute_result"
    }
   ],
   "source": [
    "#Comprobamos que no queden nulos\n",
    "df_ca[df_ca[\"segment\"].isnull()]"
   ]
  },
  {
   "cell_type": "code",
   "execution_count": 30,
   "metadata": {},
   "outputs": [
    {
     "data": {
      "text/plain": [
       "pk_cid                  0\n",
       "pk_partition            0\n",
       "entry_date              0\n",
       "entry_channel      132083\n",
       "active_customer         0\n",
       "segment                 0\n",
       "dtype: int64"
      ]
     },
     "execution_count": 30,
     "metadata": {},
     "output_type": "execute_result"
    }
   ],
   "source": [
    "#Vamos a tratar ahora los nulos de la columna \"entry_channel\"\n",
    "\n",
    "df_ca.isnull().sum()"
   ]
  },
  {
   "cell_type": "code",
   "execution_count": 31,
   "metadata": {},
   "outputs": [],
   "source": [
    "#Dado que son muchos nulos y los valores posibles muy distintos, imputar una moda puede inducir errores. Para ello, seleccionaremos para cada \"segment\", su moda de \"entry_channel\". Hecho esto, imputaremos dicha moda a los nulos en funcion de su \"segment\"\n",
    "\n",
    "###                                                                     ###\n",
    "###     ESTA SECCIÓN ES NECESARIO OPTIMIZARLA, SON DEMASIADOS PASOS     ###\n",
    "###                Y TARDA DEMASIADO                                    ###\n",
    "###                                                                     ###\n",
    "\n",
    "# Calculamos la moda en función de \"segment\" y \"entry_channel\"\n",
    "moda_por_segment_entry_channel = df_ca.groupby([\"segment\", \"entry_channel\"]).size().reset_index(name='count').sort_values(by='count', ascending=False)\n",
    "\n",
    "# Seleccionamos las modas por \"segment\"\n",
    "moda_por_segment_entry_channel = moda_por_segment_entry_channel.groupby('segment')['entry_channel'].apply(lambda x: x.mode().iloc[0] if not x.mode().empty else None).reset_index(name='entry_channel_moda')\n",
    "\n",
    "# Unimos la moda con el DataFrame original en función de \"segment\"\n",
    "df_ca_moda_entry_channel = pd.merge(df_ca, moda_por_segment_entry_channel, on='segment', how='left')\n",
    "\n",
    "# Rellenamos los valores nulos en \"entry_channel\" con la moda correspondiente\n",
    "df_ca_moda_entry_channel['entry_channel'] = df_ca_moda_entry_channel.apply(lambda row: row['entry_channel_moda'] if pd.isnull(row['entry_channel']) else row['entry_channel'], axis=1)\n",
    "\n",
    "# Eliminamos la columna auxiliar de la moda\n",
    "df_ca = df_ca_moda_entry_channel.drop(['entry_channel_moda'], axis=1)\n"
   ]
  },
  {
   "cell_type": "code",
   "execution_count": 32,
   "metadata": {},
   "outputs": [
    {
     "data": {
      "text/plain": [
       "pk_cid             0\n",
       "pk_partition       0\n",
       "entry_date         0\n",
       "entry_channel      0\n",
       "active_customer    0\n",
       "segment            0\n",
       "dtype: int64"
      ]
     },
     "execution_count": 32,
     "metadata": {},
     "output_type": "execute_result"
    }
   ],
   "source": [
    "#Ahora que no quedan nulos, revisaremos el resto de columnas\n",
    "df_ca.isnull().sum()"
   ]
  },
  {
   "cell_type": "code",
   "execution_count": 33,
   "metadata": {},
   "outputs": [
    {
     "data": {
      "text/plain": [
       "pk_cid\n",
       "1375586    17\n",
       "1328833    17\n",
       "1328837    17\n",
       "1328839    17\n",
       "1328840    17\n",
       "           ..\n",
       "1473681     1\n",
       "1473585     1\n",
       "1537955     1\n",
       "1473289     1\n",
       "1550586     1\n",
       "Name: count, Length: 453784, dtype: int64"
      ]
     },
     "execution_count": 33,
     "metadata": {},
     "output_type": "execute_result"
    }
   ],
   "source": [
    "#Columna pk_cid\n",
    "df_ca[\"pk_cid\"].value_counts()"
   ]
  },
  {
   "cell_type": "code",
   "execution_count": 34,
   "metadata": {},
   "outputs": [
    {
     "data": {
      "text/plain": [
       "13.087687093418895"
      ]
     },
     "execution_count": 34,
     "metadata": {},
     "output_type": "execute_result"
    }
   ],
   "source": [
    "df_ca[\"pk_cid\"].value_counts().mean()"
   ]
  },
  {
   "cell_type": "code",
   "execution_count": 35,
   "metadata": {},
   "outputs": [
    {
     "data": {
      "text/plain": [
       "False    5938983\n",
       "Name: count, dtype: int64"
      ]
     },
     "execution_count": 35,
     "metadata": {},
     "output_type": "execute_result"
    }
   ],
   "source": [
    "df_ca.duplicated().value_counts()"
   ]
  },
  {
   "cell_type": "code",
   "execution_count": 36,
   "metadata": {},
   "outputs": [],
   "source": [
    "#Como vimos al inicio, no hay registros duplicados, pero sin embargo en la columna pk_cid (identificador de cliente), hay cliente que aparecen hasta 17 veces en los registros\n",
    "#Esto parece indicar que un mismo cliente puede contratar varios servicios en distintas fechas, lo cual es lógico, pero sería interesante tenerlo en cuenta, ya que puede indicar la predisposicion del cliente a contratar mas productos\n",
    "#Vamos a crear una columna nueva, llamada \"cliente_habitual\" que indicará con un 1 si el cliente ha contratado más que la media y con un 0 si ha contratado menos que la media\n",
    "\n",
    "#REVISAR#!!\n",
    "\n",
    "##TAMBIEN PODRIA SER LA MEDIA DE LA ANTIGÜEDAD DE LOS CLIENTES ##!!\n",
    "\n",
    "df_ca['cliente_habitual'] = (df_ca.groupby('pk_cid')['pk_cid']\n",
    "                             .transform('count') > df_ca[\"pk_cid\"].value_counts().mean()).astype(int)\n",
    "\n"
   ]
  },
  {
   "cell_type": "code",
   "execution_count": 37,
   "metadata": {},
   "outputs": [
    {
     "data": {
      "text/plain": [
       "cliente_habitual\n",
       "1    4130893\n",
       "0    1808090\n",
       "Name: count, dtype: int64"
      ]
     },
     "execution_count": 37,
     "metadata": {},
     "output_type": "execute_result"
    }
   ],
   "source": [
    "df_ca[\"cliente_habitual\"].value_counts()"
   ]
  },
  {
   "cell_type": "code",
   "execution_count": 38,
   "metadata": {},
   "outputs": [
    {
     "data": {
      "text/plain": [
       "pk_partition\n",
       "2019-05-28    440469\n",
       "2019-04-28    437081\n",
       "2019-03-28    433565\n",
       "2019-02-28    429635\n",
       "2019-01-28    425590\n",
       "2018-12-28    421191\n",
       "2018-11-28    415109\n",
       "2018-10-28    401047\n",
       "2018-09-28    374104\n",
       "2018-08-28    351719\n",
       "2018-07-28    338155\n",
       "2018-06-28    251195\n",
       "2018-05-28    249019\n",
       "2018-04-28    246555\n",
       "2018-03-28    244349\n",
       "2018-02-28    241613\n",
       "2018-01-28    238587\n",
       "Name: count, dtype: int64"
      ]
     },
     "execution_count": 38,
     "metadata": {},
     "output_type": "execute_result"
    }
   ],
   "source": [
    "#Columna pk_partition\n",
    "df_ca[\"pk_partition\"].value_counts()"
   ]
  },
  {
   "cell_type": "code",
   "execution_count": 39,
   "metadata": {},
   "outputs": [
    {
     "data": {
      "image/png": "[encoded data removed]",
      "text/plain": [
       "<Figure size 640x480 with 1 Axes>"
      ]
     },
     "metadata": {},
     "output_type": "display_data"
    }
   ],
   "source": [
    "#Esta columna solo nos da informacion del periodo en el que se recogieron los datos. Es interesante ver como la ingesta de datos aumenta con el paso del tiempo y hay un especial repunte en Julio/2018\n",
    "\n",
    "\n",
    "# Creamos una grafica con los valores\n",
    "plt.plot(df_ca[\"pk_partition\"].value_counts().index, df_ca[\"pk_partition\"].value_counts().values, marker='o', linestyle='-', color='r')\n",
    "\n",
    "# Añadismos etiquetas y título y la mostramos\n",
    "plt.xlabel('Fecha')\n",
    "plt.ylabel('Frecuencia')\n",
    "plt.title('Distribución de pk_partition a lo largo del tiempo')\n",
    "plt.xticks(rotation=45)\n",
    "\n",
    "\n",
    "plt.show()\n"
   ]
  },
  {
   "cell_type": "code",
   "execution_count": 40,
   "metadata": {},
   "outputs": [
    {
     "data": {
      "text/plain": [
       "entry_date\n",
       "2017-07-28    57389\n",
       "2017-10-03    54287\n",
       "2017-08-04    45746\n",
       "2016-10-14    40776\n",
       "2016-08-03    33414\n",
       "              ...  \n",
       "2016-11-01       11\n",
       "2017-03-16       11\n",
       "2015-08-19       11\n",
       "2018-05-31        9\n",
       "2017-05-01        7\n",
       "Name: count, Length: 1495, dtype: int64"
      ]
     },
     "execution_count": 40,
     "metadata": {},
     "output_type": "execute_result"
    }
   ],
   "source": [
    "#Columna entry_date\n",
    "df_ca[\"entry_date\"].value_counts()"
   ]
  },
  {
   "cell_type": "code",
   "execution_count": 41,
   "metadata": {},
   "outputs": [
    {
     "data": {
      "image/png": "[encoded data removed]",
      "text/plain": [
       "<Figure size 640x480 with 1 Axes>"
      ]
     },
     "metadata": {},
     "output_type": "display_data"
    }
   ],
   "source": [
    "#Esta columna nos da informacion de la fecha en que la que se hizo la primera contratación. Vamos a dibujarla para obtener las información\n",
    "\n",
    "\n",
    "# Creamos una grafica con los valores\n",
    "plt.plot(df_ca[\"entry_date\"].value_counts().sort_index().index, df_ca[\"entry_date\"].value_counts().values, marker='o', linestyle='-', color='g')\n",
    "\n",
    "# Añadismos etiquetas y título y la mostramos\n",
    "plt.xlabel('Fecha')\n",
    "plt.ylabel('Nº Clientes')\n",
    "plt.title('Distribución de entry_date a lo largo del tiempo')\n",
    "plt.xticks(rotation=45)\n",
    "\n",
    "\n",
    "plt.show()"
   ]
  },
  {
   "cell_type": "code",
   "execution_count": 42,
   "metadata": {},
   "outputs": [
    {
     "data": {
      "text/plain": [
       "4380"
      ]
     },
     "execution_count": 42,
     "metadata": {},
     "output_type": "execute_result"
    }
   ],
   "source": [
    "#La contratación de nuevos clientes ha seguidos una constante descente a lo largo del tiempo.\n",
    "#Podemos ver cuantos clientes nuevos ha habido en el mes de Mayo de 2019\n",
    "\n",
    "len(df_ca[(df_ca[\"entry_date\"] >= \"2019-05-01\")])\n",
    "\n",
    "#Por tanto en el mes de Mayo de 2019, hubo 4380 nuevos clientes."
   ]
  },
  {
   "cell_type": "code",
   "execution_count": 43,
   "metadata": {},
   "outputs": [
    {
     "data": {
      "text/html": [
       "<div>\n",
       "<style scoped>\n",
       "    .dataframe tbody tr th:only-of-type {\n",
       "        vertical-align: middle;\n",
       "    }\n",
       "\n",
       "    .dataframe tbody tr th {\n",
       "        vertical-align: top;\n",
       "    }\n",
       "\n",
       "    .dataframe thead th {\n",
       "        text-align: right;\n",
       "    }\n",
       "</style>\n",
       "<table border=\"1\" class=\"dataframe\">\n",
       "  <thead>\n",
       "    <tr style=\"text-align: right;\">\n",
       "      <th></th>\n",
       "      <th>pk_cid</th>\n",
       "      <th>pk_partition</th>\n",
       "      <th>entry_date</th>\n",
       "      <th>entry_channel</th>\n",
       "      <th>active_customer</th>\n",
       "      <th>segment</th>\n",
       "      <th>cliente_habitual</th>\n",
       "    </tr>\n",
       "  </thead>\n",
       "  <tbody>\n",
       "    <tr>\n",
       "      <th>5498514</th>\n",
       "      <td>657817</td>\n",
       "      <td>2019-05-28</td>\n",
       "      <td>2019-05-12</td>\n",
       "      <td>KAT</td>\n",
       "      <td>0.0</td>\n",
       "      <td>03 - UNIVERSITARIO</td>\n",
       "      <td>0</td>\n",
       "    </tr>\n",
       "    <tr>\n",
       "      <th>5498545</th>\n",
       "      <td>660317</td>\n",
       "      <td>2019-05-28</td>\n",
       "      <td>2019-05-06</td>\n",
       "      <td>KFC</td>\n",
       "      <td>0.0</td>\n",
       "      <td>03 - UNIVERSITARIO</td>\n",
       "      <td>0</td>\n",
       "    </tr>\n",
       "    <tr>\n",
       "      <th>5498595</th>\n",
       "      <td>677280</td>\n",
       "      <td>2019-05-28</td>\n",
       "      <td>2019-05-05</td>\n",
       "      <td>KAT</td>\n",
       "      <td>0.0</td>\n",
       "      <td>03 - UNIVERSITARIO</td>\n",
       "      <td>0</td>\n",
       "    </tr>\n",
       "    <tr>\n",
       "      <th>5498603</th>\n",
       "      <td>678711</td>\n",
       "      <td>2019-05-28</td>\n",
       "      <td>2019-05-21</td>\n",
       "      <td>KAT</td>\n",
       "      <td>1.0</td>\n",
       "      <td>03 - UNIVERSITARIO</td>\n",
       "      <td>0</td>\n",
       "    </tr>\n",
       "    <tr>\n",
       "      <th>5498626</th>\n",
       "      <td>663346</td>\n",
       "      <td>2019-05-28</td>\n",
       "      <td>2019-05-17</td>\n",
       "      <td>KAT</td>\n",
       "      <td>0.0</td>\n",
       "      <td>03 - UNIVERSITARIO</td>\n",
       "      <td>0</td>\n",
       "    </tr>\n",
       "    <tr>\n",
       "      <th>...</th>\n",
       "      <td>...</td>\n",
       "      <td>...</td>\n",
       "      <td>...</td>\n",
       "      <td>...</td>\n",
       "      <td>...</td>\n",
       "      <td>...</td>\n",
       "      <td>...</td>\n",
       "    </tr>\n",
       "    <tr>\n",
       "      <th>5919497</th>\n",
       "      <td>1190195</td>\n",
       "      <td>2019-05-28</td>\n",
       "      <td>2019-05-22</td>\n",
       "      <td>KAT</td>\n",
       "      <td>0.0</td>\n",
       "      <td>03 - UNIVERSITARIO</td>\n",
       "      <td>0</td>\n",
       "    </tr>\n",
       "    <tr>\n",
       "      <th>5923427</th>\n",
       "      <td>1186046</td>\n",
       "      <td>2019-05-28</td>\n",
       "      <td>2019-05-27</td>\n",
       "      <td>KAT</td>\n",
       "      <td>0.0</td>\n",
       "      <td>03 - UNIVERSITARIO</td>\n",
       "      <td>0</td>\n",
       "    </tr>\n",
       "    <tr>\n",
       "      <th>5924054</th>\n",
       "      <td>1185013</td>\n",
       "      <td>2019-05-28</td>\n",
       "      <td>2019-05-14</td>\n",
       "      <td>KAT</td>\n",
       "      <td>1.0</td>\n",
       "      <td>03 - UNIVERSITARIO</td>\n",
       "      <td>0</td>\n",
       "    </tr>\n",
       "    <tr>\n",
       "      <th>5936700</th>\n",
       "      <td>1164094</td>\n",
       "      <td>2019-05-28</td>\n",
       "      <td>2019-05-13</td>\n",
       "      <td>KFC</td>\n",
       "      <td>1.0</td>\n",
       "      <td>03 - UNIVERSITARIO</td>\n",
       "      <td>0</td>\n",
       "    </tr>\n",
       "    <tr>\n",
       "      <th>5938982</th>\n",
       "      <td>1550586</td>\n",
       "      <td>2019-05-28</td>\n",
       "      <td>2019-05-13</td>\n",
       "      <td>KAT</td>\n",
       "      <td>1.0</td>\n",
       "      <td>03 - UNIVERSITARIO</td>\n",
       "      <td>0</td>\n",
       "    </tr>\n",
       "  </tbody>\n",
       "</table>\n",
       "<p>4380 rows × 7 columns</p>\n",
       "</div>"
      ],
      "text/plain": [
       "          pk_cid pk_partition entry_date entry_channel  active_customer  \\\n",
       "5498514   657817   2019-05-28 2019-05-12           KAT              0.0   \n",
       "5498545   660317   2019-05-28 2019-05-06           KFC              0.0   \n",
       "5498595   677280   2019-05-28 2019-05-05           KAT              0.0   \n",
       "5498603   678711   2019-05-28 2019-05-21           KAT              1.0   \n",
       "5498626   663346   2019-05-28 2019-05-17           KAT              0.0   \n",
       "...          ...          ...        ...           ...              ...   \n",
       "5919497  1190195   2019-05-28 2019-05-22           KAT              0.0   \n",
       "5923427  1186046   2019-05-28 2019-05-27           KAT              0.0   \n",
       "5924054  1185013   2019-05-28 2019-05-14           KAT              1.0   \n",
       "5936700  1164094   2019-05-28 2019-05-13           KFC              1.0   \n",
       "5938982  1550586   2019-05-28 2019-05-13           KAT              1.0   \n",
       "\n",
       "                    segment  cliente_habitual  \n",
       "5498514  03 - UNIVERSITARIO                 0  \n",
       "5498545  03 - UNIVERSITARIO                 0  \n",
       "5498595  03 - UNIVERSITARIO                 0  \n",
       "5498603  03 - UNIVERSITARIO                 0  \n",
       "5498626  03 - UNIVERSITARIO                 0  \n",
       "...                     ...               ...  \n",
       "5919497  03 - UNIVERSITARIO                 0  \n",
       "5923427  03 - UNIVERSITARIO                 0  \n",
       "5924054  03 - UNIVERSITARIO                 0  \n",
       "5936700  03 - UNIVERSITARIO                 0  \n",
       "5938982  03 - UNIVERSITARIO                 0  \n",
       "\n",
       "[4380 rows x 7 columns]"
      ]
     },
     "execution_count": 43,
     "metadata": {},
     "output_type": "execute_result"
    }
   ],
   "source": [
    "df_ca[(df_ca[\"entry_date\"] >= \"2019-05-01\")]"
   ]
  },
  {
   "cell_type": "code",
   "execution_count": 44,
   "metadata": {},
   "outputs": [
    {
     "data": {
      "text/plain": [
       "6904"
      ]
     },
     "execution_count": 44,
     "metadata": {},
     "output_type": "execute_result"
    }
   ],
   "source": [
    "#Restando el numero de registros del mes de mayo, menos los del mes anterior, podemos ver el total de nuevos registros o \"ventas\". De todas las 6904 ventas t otales, 4380 fueron a nuevos clientes\n",
    "len(df_ca[(df_ca[\"pk_partition\"] == \"2019-05-28\")]) - len(df_ca[(df_ca[\"pk_partition\"] == \"2019-03-28\")])"
   ]
  },
  {
   "cell_type": "code",
   "execution_count": 45,
   "metadata": {},
   "outputs": [
    {
     "data": {
      "text/plain": [
       "active_customer\n",
       "0.0    3548463\n",
       "1.0    2390520\n",
       "Name: count, dtype: int64"
      ]
     },
     "execution_count": 45,
     "metadata": {},
     "output_type": "execute_result"
    }
   ],
   "source": [
    "#Columna active_customer\n",
    "df_ca[\"active_customer\"].value_counts()"
   ]
  },
  {
   "cell_type": "code",
   "execution_count": 46,
   "metadata": {},
   "outputs": [
    {
     "data": {
      "text/plain": [
       "active_customer\n",
       "0.0    59.748664\n",
       "1.0    40.251336\n",
       "Name: proportion, dtype: float64"
      ]
     },
     "execution_count": 46,
     "metadata": {},
     "output_type": "execute_result"
    }
   ],
   "source": [
    "#En %\n",
    "df_ca[\"active_customer\"].value_counts(normalize=True) * 100\n",
    "\n",
    "#Solo el 40% de los clientes son clientes activos en la APP, lo que daría margen a promociones que incluyan el registro en la APP"
   ]
  },
  {
   "cell_type": "code",
   "execution_count": 47,
   "metadata": {},
   "outputs": [],
   "source": [
    "### PARA LA TUTORIA ###\n",
    "# 1- TARGET ?¿  lo tenemos que crear nosotros el target?.\n",
    "# Entendemos que es una clasificación, ya que el objetivo del analisis es la propresión de compra de los clientes, usamos la columna nueva \"cliente habitual\" ?¿?¿ \n",
    "\n",
    "# 2- DF , ahora mismo tenemos 3 dataset distintos, tenemos que unirlos en uno solo y eliminar las columnas repetidas ¿?¿?¿\n",
    "\n"
   ]
  }
 ],
 "metadata": {
  "kernelspec": {
   "display_name": "Python 3",
   "language": "python",
   "name": "python3"
  },
  "language_info": {
   "codemirror_mode": {
    "name": "ipython",
    "version": 3
   },
   "file_extension": ".py",
   "mimetype": "text/x-python",
   "name": "python",
   "nbconvert_exporter": "python",
   "pygments_lexer": "ipython3",
   "version": "3.11.4"
  }
 },
 "nbformat": 4,
 "nbformat_minor": 2
}
