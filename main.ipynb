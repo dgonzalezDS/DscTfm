{
 "cells": [
  {
   "cell_type": "code",
   "execution_count": 3,
   "metadata": {},
   "outputs": [],
   "source": [
    "#Esto es un cuaderno, para realizar el proyecto paso a paso"
   ]
  },
  {
   "cell_type": "markdown",
   "metadata": {},
   "source": [
    "Importamos librerias necesarias en la limpieza de datos (no olvidar instalar las libreras necesarias con pip install .. antes de importarlas)"
   ]
  },
  {
   "cell_type": "code",
   "execution_count": 4,
   "metadata": {},
   "outputs": [],
   "source": [
    "import pandas as pd\n",
    "import numpy as np\n",
    "import matplotlib.pyplot as plt\n",
    "import seaborn as sns\n",
    "\n",
    "from sklearn.preprocessing import LabelEncoder,MinMaxScaler,OrdinalEncoder\n",
    "\n",
    "import folium\n",
    "import plotly.express as px\n"
   ]
  },
  {
   "cell_type": "markdown",
   "metadata": {},
   "source": [
    "Leemos el primer csv, y lo asignamos como nuestro dataframe. Imprimimos las primeras lineas para tener una idea del dataframe"
   ]
  },
  {
   "cell_type": "code",
   "execution_count": 5,
   "metadata": {},
   "outputs": [
    {
     "name": "stdout",
     "output_type": "stream",
     "text": [
      "   Unnamed: 0   pk_cid pk_partition  entry_date entry_channel  \\\n",
      "0           0  1375586   2018-01-28  2018-01-12           KHL   \n",
      "1           1  1050611   2018-01-28  2015-08-10           KHE   \n",
      "2           2  1050612   2018-01-28  2015-08-10           KHE   \n",
      "3           3  1050613   2018-01-28  2015-08-10           KHD   \n",
      "4           4  1050614   2018-01-28  2015-08-10           KHE   \n",
      "\n",
      "   active_customer             segment  \n",
      "0              1.0   02 - PARTICULARES  \n",
      "1              0.0  03 - UNIVERSITARIO  \n",
      "2              0.0  03 - UNIVERSITARIO  \n",
      "3              0.0  03 - UNIVERSITARIO  \n",
      "4              1.0  03 - UNIVERSITARIO  \n"
     ]
    }
   ],
   "source": [
    "df_ca=pd.read_csv(\"commercial_activity_df.csv\")\n",
    "print(df_ca.head())"
   ]
  },
  {
   "cell_type": "markdown",
   "metadata": {},
   "source": [
    "Obtenemos informacion general del dataframe con  los metodos .describe() e .info()"
   ]
  },
  {
   "cell_type": "code",
   "execution_count": 6,
   "metadata": {},
   "outputs": [
    {
     "name": "stdout",
     "output_type": "stream",
     "text": [
      "<class 'pandas.core.frame.DataFrame'>\n",
      "RangeIndex: 5962924 entries, 0 to 5962923\n",
      "Data columns (total 7 columns):\n",
      " #   Column           Dtype  \n",
      "---  ------           -----  \n",
      " 0   Unnamed: 0       int64  \n",
      " 1   pk_cid           int64  \n",
      " 2   pk_partition     object \n",
      " 3   entry_date       object \n",
      " 4   entry_channel    object \n",
      " 5   active_customer  float64\n",
      " 6   segment          object \n",
      "dtypes: float64(1), int64(2), object(4)\n",
      "memory usage: 318.5+ MB\n"
     ]
    }
   ],
   "source": [
    "df_ca.info()"
   ]
  },
  {
   "cell_type": "markdown",
   "metadata": {},
   "source": [
    "Vemos que existe una columna de numeros, que coincide con el numero de los registros, pero que no es el indice, llamada Unnamed. Vamos a cambiar el nombre a esta columna y asignarla como indice."
   ]
  },
  {
   "cell_type": "code",
   "execution_count": 7,
   "metadata": {},
   "outputs": [],
   "source": [
    "n_index = 'Index'\n",
    "df_ca = df_ca.rename_axis(n_index).reset_index()"
   ]
  },
  {
   "cell_type": "code",
   "execution_count": 8,
   "metadata": {},
   "outputs": [],
   "source": [
    "df_ca.set_index('Index', inplace=True)"
   ]
  },
  {
   "cell_type": "markdown",
   "metadata": {},
   "source": [
    "Comprobamos que el indice ahora es correcto, pero nos sobra la columna Unnamed, la borramos con del"
   ]
  },
  {
   "cell_type": "code",
   "execution_count": 9,
   "metadata": {},
   "outputs": [
    {
     "name": "stdout",
     "output_type": "stream",
     "text": [
      "       Unnamed: 0   pk_cid pk_partition  entry_date entry_channel  \\\n",
      "Index                                                               \n",
      "0               0  1375586   2018-01-28  2018-01-12           KHL   \n",
      "1               1  1050611   2018-01-28  2015-08-10           KHE   \n",
      "2               2  1050612   2018-01-28  2015-08-10           KHE   \n",
      "3               3  1050613   2018-01-28  2015-08-10           KHD   \n",
      "4               4  1050614   2018-01-28  2015-08-10           KHE   \n",
      "\n",
      "       active_customer             segment  \n",
      "Index                                       \n",
      "0                  1.0   02 - PARTICULARES  \n",
      "1                  0.0  03 - UNIVERSITARIO  \n",
      "2                  0.0  03 - UNIVERSITARIO  \n",
      "3                  0.0  03 - UNIVERSITARIO  \n",
      "4                  1.0  03 - UNIVERSITARIO  \n"
     ]
    }
   ],
   "source": [
    "print(df_ca.head())"
   ]
  },
  {
   "cell_type": "code",
   "execution_count": 10,
   "metadata": {},
   "outputs": [],
   "source": [
    "del(df_ca[\"Unnamed: 0\"])"
   ]
  },
  {
   "cell_type": "code",
   "execution_count": 11,
   "metadata": {},
   "outputs": [
    {
     "name": "stdout",
     "output_type": "stream",
     "text": [
      "        pk_cid pk_partition  entry_date entry_channel  active_customer  \\\n",
      "Index                                                                    \n",
      "0      1375586   2018-01-28  2018-01-12           KHL              1.0   \n",
      "1      1050611   2018-01-28  2015-08-10           KHE              0.0   \n",
      "2      1050612   2018-01-28  2015-08-10           KHE              0.0   \n",
      "3      1050613   2018-01-28  2015-08-10           KHD              0.0   \n",
      "4      1050614   2018-01-28  2015-08-10           KHE              1.0   \n",
      "\n",
      "                  segment  \n",
      "Index                      \n",
      "0       02 - PARTICULARES  \n",
      "1      03 - UNIVERSITARIO  \n",
      "2      03 - UNIVERSITARIO  \n",
      "3      03 - UNIVERSITARIO  \n",
      "4      03 - UNIVERSITARIO  \n"
     ]
    }
   ],
   "source": [
    "print(df_ca.head())"
   ]
  },
  {
   "cell_type": "markdown",
   "metadata": {},
   "source": [
    "Tambien cambiaremos las columnas \"pk_partition\" y \"entry_date\" a formato fecha"
   ]
  },
  {
   "cell_type": "code",
   "execution_count": 12,
   "metadata": {},
   "outputs": [],
   "source": [
    "for i in [\"pk_partition\",\"entry_date\"]:\n",
    "    df_ca[i]=pd.to_datetime(df_ca[i],format='%Y-%m-%d',errors=\"coerce\")\n"
   ]
  },
  {
   "cell_type": "markdown",
   "metadata": {},
   "source": [
    "### CONSULTAR PORQUE ESTO ME METE NULOS, CUANDO NO LOS HABIA\"\n"
   ]
  },
  {
   "cell_type": "markdown",
   "metadata": {},
   "source": [
    "Aparece un error al cambiar el formato de las fechas, vamos a tratarlo y volveremos a ejecutarlo\n"
   ]
  },
  {
   "cell_type": "code",
   "execution_count": 13,
   "metadata": {},
   "outputs": [
    {
     "data": {
      "text/plain": [
       "pk_cid                         1051705\n",
       "pk_partition       2018-01-28 00:00:00\n",
       "entry_date         2015-08-14 00:00:00\n",
       "entry_channel                      KHD\n",
       "active_customer                    0.0\n",
       "segment             03 - UNIVERSITARIO\n",
       "Name: 688, dtype: object"
      ]
     },
     "execution_count": 13,
     "metadata": {},
     "output_type": "execute_result"
    }
   ],
   "source": [
    "df_ca.loc[688]"
   ]
  },
  {
   "cell_type": "code",
   "execution_count": 14,
   "metadata": {},
   "outputs": [
    {
     "name": "stdout",
     "output_type": "stream",
     "text": [
      "<class 'pandas.core.frame.DataFrame'>\n",
      "Index: 5962924 entries, 0 to 5962923\n",
      "Data columns (total 6 columns):\n",
      " #   Column           Dtype         \n",
      "---  ------           -----         \n",
      " 0   pk_cid           int64         \n",
      " 1   pk_partition     datetime64[ns]\n",
      " 2   entry_date       datetime64[ns]\n",
      " 3   entry_channel    object        \n",
      " 4   active_customer  float64       \n",
      " 5   segment          object        \n",
      "dtypes: datetime64[ns](2), float64(1), int64(1), object(2)\n",
      "memory usage: 318.5+ MB\n"
     ]
    }
   ],
   "source": [
    "df_ca.info()"
   ]
  },
  {
   "cell_type": "markdown",
   "metadata": {},
   "source": [
    "Comenzamos ahora la busqueda de nulos\n"
   ]
  },
  {
   "cell_type": "code",
   "execution_count": 15,
   "metadata": {},
   "outputs": [
    {
     "data": {
      "text/plain": [
       "pk_cid             False\n",
       "pk_partition       False\n",
       "entry_date          True\n",
       "entry_channel       True\n",
       "active_customer    False\n",
       "segment             True\n",
       "dtype: bool"
      ]
     },
     "execution_count": 15,
     "metadata": {},
     "output_type": "execute_result"
    }
   ],
   "source": [
    "df_ca.isnull().any()"
   ]
  },
  {
   "cell_type": "code",
   "execution_count": 16,
   "metadata": {},
   "outputs": [
    {
     "data": {
      "text/plain": [
       "6413"
      ]
     },
     "execution_count": 16,
     "metadata": {},
     "output_type": "execute_result"
    }
   ],
   "source": [
    "df_ca[\"entry_date\"].isna().sum()"
   ]
  },
  {
   "cell_type": "code",
   "execution_count": 17,
   "metadata": {},
   "outputs": [],
   "source": [
    "df_ca.dropna(subset = [\"entry_date\"], inplace=True)"
   ]
  },
  {
   "cell_type": "markdown",
   "metadata": {},
   "source": [
    "Existen dos columnas con nulos, vamos a ver cuantos son"
   ]
  },
  {
   "cell_type": "code",
   "execution_count": 50,
   "metadata": {},
   "outputs": [
    {
     "data": {
      "text/plain": [
       "pk_cid                  0\n",
       "pk_partition            0\n",
       "entry_date              0\n",
       "entry_channel      132083\n",
       "active_customer         0\n",
       "segment            132923\n",
       "dtype: int64"
      ]
     },
     "execution_count": 50,
     "metadata": {},
     "output_type": "execute_result"
    }
   ],
   "source": [
    "df_ca.isnull().sum()"
   ]
  },
  {
   "cell_type": "code",
   "execution_count": 19,
   "metadata": {},
   "outputs": [
    {
     "data": {
      "text/html": [
       "<div>\n",
       "<style scoped>\n",
       "    .dataframe tbody tr th:only-of-type {\n",
       "        vertical-align: middle;\n",
       "    }\n",
       "\n",
       "    .dataframe tbody tr th {\n",
       "        vertical-align: top;\n",
       "    }\n",
       "\n",
       "    .dataframe thead th {\n",
       "        text-align: right;\n",
       "    }\n",
       "</style>\n",
       "<table border=\"1\" class=\"dataframe\">\n",
       "  <thead>\n",
       "    <tr style=\"text-align: right;\">\n",
       "      <th></th>\n",
       "      <th>pk_cid</th>\n",
       "      <th>pk_partition</th>\n",
       "      <th>entry_date</th>\n",
       "      <th>entry_channel</th>\n",
       "      <th>active_customer</th>\n",
       "      <th>segment</th>\n",
       "    </tr>\n",
       "    <tr>\n",
       "      <th>Index</th>\n",
       "      <th></th>\n",
       "      <th></th>\n",
       "      <th></th>\n",
       "      <th></th>\n",
       "      <th></th>\n",
       "      <th></th>\n",
       "    </tr>\n",
       "  </thead>\n",
       "  <tbody>\n",
       "    <tr>\n",
       "      <th>0</th>\n",
       "      <td>1375586</td>\n",
       "      <td>2018-01-28</td>\n",
       "      <td>2018-01-12</td>\n",
       "      <td>KHL</td>\n",
       "      <td>1.0</td>\n",
       "      <td>02 - PARTICULARES</td>\n",
       "    </tr>\n",
       "    <tr>\n",
       "      <th>1</th>\n",
       "      <td>1050611</td>\n",
       "      <td>2018-01-28</td>\n",
       "      <td>2015-08-10</td>\n",
       "      <td>KHE</td>\n",
       "      <td>0.0</td>\n",
       "      <td>03 - UNIVERSITARIO</td>\n",
       "    </tr>\n",
       "    <tr>\n",
       "      <th>2</th>\n",
       "      <td>1050612</td>\n",
       "      <td>2018-01-28</td>\n",
       "      <td>2015-08-10</td>\n",
       "      <td>KHE</td>\n",
       "      <td>0.0</td>\n",
       "      <td>03 - UNIVERSITARIO</td>\n",
       "    </tr>\n",
       "    <tr>\n",
       "      <th>3</th>\n",
       "      <td>1050613</td>\n",
       "      <td>2018-01-28</td>\n",
       "      <td>2015-08-10</td>\n",
       "      <td>KHD</td>\n",
       "      <td>0.0</td>\n",
       "      <td>03 - UNIVERSITARIO</td>\n",
       "    </tr>\n",
       "    <tr>\n",
       "      <th>4</th>\n",
       "      <td>1050614</td>\n",
       "      <td>2018-01-28</td>\n",
       "      <td>2015-08-10</td>\n",
       "      <td>KHE</td>\n",
       "      <td>1.0</td>\n",
       "      <td>03 - UNIVERSITARIO</td>\n",
       "    </tr>\n",
       "    <tr>\n",
       "      <th>5</th>\n",
       "      <td>1050615</td>\n",
       "      <td>2018-01-28</td>\n",
       "      <td>2015-08-10</td>\n",
       "      <td>KHE</td>\n",
       "      <td>0.0</td>\n",
       "      <td>03 - UNIVERSITARIO</td>\n",
       "    </tr>\n",
       "    <tr>\n",
       "      <th>6</th>\n",
       "      <td>1050616</td>\n",
       "      <td>2018-01-28</td>\n",
       "      <td>2015-08-10</td>\n",
       "      <td>KHE</td>\n",
       "      <td>0.0</td>\n",
       "      <td>03 - UNIVERSITARIO</td>\n",
       "    </tr>\n",
       "    <tr>\n",
       "      <th>7</th>\n",
       "      <td>1050617</td>\n",
       "      <td>2018-01-28</td>\n",
       "      <td>2015-08-10</td>\n",
       "      <td>KHE</td>\n",
       "      <td>1.0</td>\n",
       "      <td>03 - UNIVERSITARIO</td>\n",
       "    </tr>\n",
       "    <tr>\n",
       "      <th>8</th>\n",
       "      <td>1050619</td>\n",
       "      <td>2018-01-28</td>\n",
       "      <td>2015-08-10</td>\n",
       "      <td>KHE</td>\n",
       "      <td>0.0</td>\n",
       "      <td>03 - UNIVERSITARIO</td>\n",
       "    </tr>\n",
       "    <tr>\n",
       "      <th>9</th>\n",
       "      <td>1050620</td>\n",
       "      <td>2018-01-28</td>\n",
       "      <td>2015-08-10</td>\n",
       "      <td>KHE</td>\n",
       "      <td>0.0</td>\n",
       "      <td>03 - UNIVERSITARIO</td>\n",
       "    </tr>\n",
       "  </tbody>\n",
       "</table>\n",
       "</div>"
      ],
      "text/plain": [
       "        pk_cid pk_partition entry_date entry_channel  active_customer  \\\n",
       "Index                                                                   \n",
       "0      1375586   2018-01-28 2018-01-12           KHL              1.0   \n",
       "1      1050611   2018-01-28 2015-08-10           KHE              0.0   \n",
       "2      1050612   2018-01-28 2015-08-10           KHE              0.0   \n",
       "3      1050613   2018-01-28 2015-08-10           KHD              0.0   \n",
       "4      1050614   2018-01-28 2015-08-10           KHE              1.0   \n",
       "5      1050615   2018-01-28 2015-08-10           KHE              0.0   \n",
       "6      1050616   2018-01-28 2015-08-10           KHE              0.0   \n",
       "7      1050617   2018-01-28 2015-08-10           KHE              1.0   \n",
       "8      1050619   2018-01-28 2015-08-10           KHE              0.0   \n",
       "9      1050620   2018-01-28 2015-08-10           KHE              0.0   \n",
       "\n",
       "                  segment  \n",
       "Index                      \n",
       "0       02 - PARTICULARES  \n",
       "1      03 - UNIVERSITARIO  \n",
       "2      03 - UNIVERSITARIO  \n",
       "3      03 - UNIVERSITARIO  \n",
       "4      03 - UNIVERSITARIO  \n",
       "5      03 - UNIVERSITARIO  \n",
       "6      03 - UNIVERSITARIO  \n",
       "7      03 - UNIVERSITARIO  \n",
       "8      03 - UNIVERSITARIO  \n",
       "9      03 - UNIVERSITARIO  "
      ]
     },
     "execution_count": 19,
     "metadata": {},
     "output_type": "execute_result"
    }
   ],
   "source": [
    "df_ca.head(10)"
   ]
  },
  {
   "cell_type": "markdown",
   "metadata": {},
   "source": [
    "Ahora contaremos los posibles duplicados que haya, si los hay"
   ]
  },
  {
   "cell_type": "code",
   "execution_count": 20,
   "metadata": {},
   "outputs": [
    {
     "name": "stdout",
     "output_type": "stream",
     "text": [
      "<class 'pandas.core.frame.DataFrame'>\n",
      "Index: 0 entries\n",
      "Data columns (total 6 columns):\n",
      " #   Column           Non-Null Count  Dtype         \n",
      "---  ------           --------------  -----         \n",
      " 0   pk_cid           0 non-null      int64         \n",
      " 1   pk_partition     0 non-null      datetime64[ns]\n",
      " 2   entry_date       0 non-null      datetime64[ns]\n",
      " 3   entry_channel    0 non-null      object        \n",
      " 4   active_customer  0 non-null      float64       \n",
      " 5   segment          0 non-null      object        \n",
      "dtypes: datetime64[ns](2), float64(1), int64(1), object(2)\n",
      "memory usage: 0.0+ bytes\n"
     ]
    }
   ],
   "source": [
    "df_ca[df_ca.duplicated()].info()"
   ]
  },
  {
   "cell_type": "markdown",
   "metadata": {},
   "source": [
    "Ahora echaremos un vistazo al dataframe con un histrograma"
   ]
  },
  {
   "cell_type": "code",
   "execution_count": 21,
   "metadata": {},
   "outputs": [
    {
     "data": {
      "text/plain": [
       "array([[<Axes: title={'center': 'pk_cid'}>,\n",
       "        <Axes: title={'center': 'pk_partition'}>],\n",
       "       [<Axes: title={'center': 'entry_date'}>,\n",
       "        <Axes: title={'center': 'active_customer'}>]], dtype=object)"
      ]
     },
     "execution_count": 21,
     "metadata": {},
     "output_type": "execute_result"
    },
    {
     "data": {
      "image/png": "[encoded data removed]",
      "text/plain": [
       "<Figure size 640x480 with 4 Axes>"
      ]
     },
     "metadata": {},
     "output_type": "display_data"
    }
   ],
   "source": [
    "df_ca.hist()"
   ]
  },
  {
   "cell_type": "markdown",
   "metadata": {},
   "source": [
    "Vemos la distribucion de entry channel, y eliminaremos todas las filas que contengan un valor de \"entry_channel\" inferior al 1% del total de registros del dataset (aprox 6M -> 0.1 % -> 6k)"
   ]
  },
  {
   "cell_type": "code",
   "execution_count": 22,
   "metadata": {},
   "outputs": [
    {
     "data": {
      "text/plain": [
       "entry_channel\n",
       "KHE    3113947\n",
       "KFC     889944\n",
       "KHQ     590280\n",
       "KAT     415870\n",
       "KHK     230182\n",
       "        ...   \n",
       "KES         11\n",
       "KEJ          8\n",
       "KHS          5\n",
       "KDA          2\n",
       "KFP          2\n",
       "Name: count, Length: 67, dtype: int64"
      ]
     },
     "execution_count": 22,
     "metadata": {},
     "output_type": "execute_result"
    }
   ],
   "source": [
    "df_ca[\"entry_channel\"].value_counts()"
   ]
  },
  {
   "cell_type": "code",
   "execution_count": 35,
   "metadata": {},
   "outputs": [],
   "source": [
    "def obten_lista_eliminar(dataset, columna, umbral):\n",
    "  lista_borrar= []  \n",
    "  tabla=dataset[columna].value_counts().reset_index()\n",
    "  print(tabla)\n",
    "  for i in range(0,len(tabla)):\n",
    "    if (tabla.iloc[i][\"count\"]) < umbral:\n",
    "      lista_borrar.append(tabla.iloc[i][columna])\n",
    "  return lista_borrar\n"
   ]
  },
  {
   "cell_type": "code",
   "execution_count": 38,
   "metadata": {},
   "outputs": [
    {
     "name": "stdout",
     "output_type": "stream",
     "text": [
      "   entry_channel    count\n",
      "0            KHE  3113947\n",
      "1            KFC   889944\n",
      "2            KHQ   590280\n",
      "3            KAT   415870\n",
      "4            KHK   230182\n",
      "..           ...      ...\n",
      "62           KES       11\n",
      "63           KEJ        8\n",
      "64           KHS        5\n",
      "65           KDA        2\n",
      "66           KFP        2\n",
      "\n",
      "[67 rows x 2 columns]\n"
     ]
    }
   ],
   "source": [
    "lista_eliminar_entry = obten_lista_eliminar(df_ca, \"entry_channel\", 6000)\n"
   ]
  },
  {
   "cell_type": "code",
   "execution_count": 39,
   "metadata": {},
   "outputs": [],
   "source": [
    "def eliminar_lista_df(dataset, columna, lista_eliminar):\n",
    "  dataset.drop(dataset[dataset[columna].isin(lista_eliminar)].index, inplace=True)\n",
    "\n",
    "\n"
   ]
  },
  {
   "cell_type": "code",
   "execution_count": 41,
   "metadata": {},
   "outputs": [],
   "source": [
    "eliminar_lista_df(df_ca,\"entry_channel\",lista_eliminar_entry)"
   ]
  },
  {
   "cell_type": "code",
   "execution_count": 48,
   "metadata": {},
   "outputs": [
    {
     "data": {
      "text/plain": [
       "entry_channel\n",
       "KHE    3113947\n",
       "KFC     889944\n",
       "KHQ     590280\n",
       "KAT     415870\n",
       "KHK     230182\n",
       "KHM     173527\n",
       "KHN     107919\n",
       "KFA      78910\n",
       "KHD      75130\n",
       "RED      60560\n",
       "KHL      41736\n",
       "KHF      20657\n",
       "KHO       8238\n",
       "Name: count, dtype: int64"
      ]
     },
     "execution_count": 48,
     "metadata": {},
     "output_type": "execute_result"
    }
   ],
   "source": [
    "df_ca[\"entry_channel\"].value_counts()"
   ]
  },
  {
   "cell_type": "code",
   "execution_count": null,
   "metadata": {},
   "outputs": [],
   "source": []
  }
 ],
 "metadata": {
  "kernelspec": {
   "display_name": "Python 3",
   "language": "python",
   "name": "python3"
  },
  "language_info": {
   "codemirror_mode": {
    "name": "ipython",
    "version": 3
   },
   "file_extension": ".py",
   "mimetype": "text/x-python",
   "name": "python",
   "nbconvert_exporter": "python",
   "pygments_lexer": "ipython3",
   "version": "3.12.1"
  }
 },
 "nbformat": 4,
 "nbformat_minor": 2
}
