{
 "cells": [
  {
   "cell_type": "code",
   "execution_count": null,
   "metadata": {},
   "outputs": [],
   "source": [
    "#Esto es un cuaderno, para realizar el proyecto paso a paso"
   ]
  },
  {
   "cell_type": "code",
   "execution_count": 1,
   "metadata": {},
   "outputs": [],
   "source": [
    "import pandas as pd"
   ]
  },
  {
   "cell_type": "code",
   "execution_count": 2,
   "metadata": {},
   "outputs": [
    {
     "name": "stdout",
     "output_type": "stream",
     "text": [
      "   Unnamed: 0   pk_cid pk_partition  entry_date entry_channel  \\\n",
      "0           0  1375586   2018-01-28  2018-01-12           KHL   \n",
      "1           1  1050611   2018-01-28  2015-08-10           KHE   \n",
      "2           2  1050612   2018-01-28  2015-08-10           KHE   \n",
      "3           3  1050613   2018-01-28  2015-08-10           KHD   \n",
      "4           4  1050614   2018-01-28  2015-08-10           KHE   \n",
      "\n",
      "   active_customer             segment  \n",
      "0              1.0   02 - PARTICULARES  \n",
      "1              0.0  03 - UNIVERSITARIO  \n",
      "2              0.0  03 - UNIVERSITARIO  \n",
      "3              0.0  03 - UNIVERSITARIO  \n",
      "4              1.0  03 - UNIVERSITARIO  \n"
     ]
    }
   ],
   "source": [
    "df_init=pd.read_csv(\"commercial_activity_df.csv\")\n",
    "print(df_init.head())"
   ]
  },
  {
   "cell_type": "code",
   "execution_count": 3,
   "metadata": {},
   "outputs": [
    {
     "data": {
      "text/html": [
       "<div>\n",
       "<style scoped>\n",
       "    .dataframe tbody tr th:only-of-type {\n",
       "        vertical-align: middle;\n",
       "    }\n",
       "\n",
       "    .dataframe tbody tr th {\n",
       "        vertical-align: top;\n",
       "    }\n",
       "\n",
       "    .dataframe thead th {\n",
       "        text-align: right;\n",
       "    }\n",
       "</style>\n",
       "<table border=\"1\" class=\"dataframe\">\n",
       "  <thead>\n",
       "    <tr style=\"text-align: right;\">\n",
       "      <th></th>\n",
       "      <th>Unnamed: 0</th>\n",
       "      <th>pk_cid</th>\n",
       "      <th>active_customer</th>\n",
       "    </tr>\n",
       "  </thead>\n",
       "  <tbody>\n",
       "    <tr>\n",
       "      <th>count</th>\n",
       "      <td>5.962924e+06</td>\n",
       "      <td>5.962924e+06</td>\n",
       "      <td>5.962924e+06</td>\n",
       "    </tr>\n",
       "    <tr>\n",
       "      <th>mean</th>\n",
       "      <td>7.155425e+06</td>\n",
       "      <td>1.234930e+06</td>\n",
       "      <td>4.033845e-01</td>\n",
       "    </tr>\n",
       "    <tr>\n",
       "      <th>std</th>\n",
       "      <td>3.920784e+06</td>\n",
       "      <td>1.623020e+05</td>\n",
       "      <td>4.905767e-01</td>\n",
       "    </tr>\n",
       "    <tr>\n",
       "      <th>min</th>\n",
       "      <td>0.000000e+00</td>\n",
       "      <td>1.589100e+04</td>\n",
       "      <td>0.000000e+00</td>\n",
       "    </tr>\n",
       "    <tr>\n",
       "      <th>25%</th>\n",
       "      <td>4.240386e+06</td>\n",
       "      <td>1.112532e+06</td>\n",
       "      <td>0.000000e+00</td>\n",
       "    </tr>\n",
       "    <tr>\n",
       "      <th>50%</th>\n",
       "      <td>7.499346e+06</td>\n",
       "      <td>1.231097e+06</td>\n",
       "      <td>0.000000e+00</td>\n",
       "    </tr>\n",
       "    <tr>\n",
       "      <th>75%</th>\n",
       "      <td>1.020142e+07</td>\n",
       "      <td>1.352339e+06</td>\n",
       "      <td>1.000000e+00</td>\n",
       "    </tr>\n",
       "    <tr>\n",
       "      <th>max</th>\n",
       "      <td>1.364731e+07</td>\n",
       "      <td>1.553689e+06</td>\n",
       "      <td>1.000000e+00</td>\n",
       "    </tr>\n",
       "  </tbody>\n",
       "</table>\n",
       "</div>"
      ],
      "text/plain": [
       "         Unnamed: 0        pk_cid  active_customer\n",
       "count  5.962924e+06  5.962924e+06     5.962924e+06\n",
       "mean   7.155425e+06  1.234930e+06     4.033845e-01\n",
       "std    3.920784e+06  1.623020e+05     4.905767e-01\n",
       "min    0.000000e+00  1.589100e+04     0.000000e+00\n",
       "25%    4.240386e+06  1.112532e+06     0.000000e+00\n",
       "50%    7.499346e+06  1.231097e+06     0.000000e+00\n",
       "75%    1.020142e+07  1.352339e+06     1.000000e+00\n",
       "max    1.364731e+07  1.553689e+06     1.000000e+00"
      ]
     },
     "execution_count": 3,
     "metadata": {},
     "output_type": "execute_result"
    }
   ],
   "source": [
    "df_init.describe()"
   ]
  },
  {
   "cell_type": "code",
   "execution_count": 5,
   "metadata": {},
   "outputs": [],
   "source": [
    "df_init.set_index('Unnamed: 0', inplace=True)"
   ]
  },
  {
   "cell_type": "code",
   "execution_count": 6,
   "metadata": {},
   "outputs": [
    {
     "data": {
      "text/html": [
       "<div>\n",
       "<style scoped>\n",
       "    .dataframe tbody tr th:only-of-type {\n",
       "        vertical-align: middle;\n",
       "    }\n",
       "\n",
       "    .dataframe tbody tr th {\n",
       "        vertical-align: top;\n",
       "    }\n",
       "\n",
       "    .dataframe thead th {\n",
       "        text-align: right;\n",
       "    }\n",
       "</style>\n",
       "<table border=\"1\" class=\"dataframe\">\n",
       "  <thead>\n",
       "    <tr style=\"text-align: right;\">\n",
       "      <th></th>\n",
       "      <th>pk_cid</th>\n",
       "      <th>active_customer</th>\n",
       "    </tr>\n",
       "  </thead>\n",
       "  <tbody>\n",
       "    <tr>\n",
       "      <th>count</th>\n",
       "      <td>5.962924e+06</td>\n",
       "      <td>5.962924e+06</td>\n",
       "    </tr>\n",
       "    <tr>\n",
       "      <th>mean</th>\n",
       "      <td>1.234930e+06</td>\n",
       "      <td>4.033845e-01</td>\n",
       "    </tr>\n",
       "    <tr>\n",
       "      <th>std</th>\n",
       "      <td>1.623020e+05</td>\n",
       "      <td>4.905767e-01</td>\n",
       "    </tr>\n",
       "    <tr>\n",
       "      <th>min</th>\n",
       "      <td>1.589100e+04</td>\n",
       "      <td>0.000000e+00</td>\n",
       "    </tr>\n",
       "    <tr>\n",
       "      <th>25%</th>\n",
       "      <td>1.112532e+06</td>\n",
       "      <td>0.000000e+00</td>\n",
       "    </tr>\n",
       "    <tr>\n",
       "      <th>50%</th>\n",
       "      <td>1.231097e+06</td>\n",
       "      <td>0.000000e+00</td>\n",
       "    </tr>\n",
       "    <tr>\n",
       "      <th>75%</th>\n",
       "      <td>1.352339e+06</td>\n",
       "      <td>1.000000e+00</td>\n",
       "    </tr>\n",
       "    <tr>\n",
       "      <th>max</th>\n",
       "      <td>1.553689e+06</td>\n",
       "      <td>1.000000e+00</td>\n",
       "    </tr>\n",
       "  </tbody>\n",
       "</table>\n",
       "</div>"
      ],
      "text/plain": [
       "             pk_cid  active_customer\n",
       "count  5.962924e+06     5.962924e+06\n",
       "mean   1.234930e+06     4.033845e-01\n",
       "std    1.623020e+05     4.905767e-01\n",
       "min    1.589100e+04     0.000000e+00\n",
       "25%    1.112532e+06     0.000000e+00\n",
       "50%    1.231097e+06     0.000000e+00\n",
       "75%    1.352339e+06     1.000000e+00\n",
       "max    1.553689e+06     1.000000e+00"
      ]
     },
     "execution_count": 6,
     "metadata": {},
     "output_type": "execute_result"
    }
   ],
   "source": [
    "df_init.describe()"
   ]
  },
  {
   "cell_type": "code",
   "execution_count": 7,
   "metadata": {},
   "outputs": [
    {
     "name": "stdout",
     "output_type": "stream",
     "text": [
      "             pk_cid pk_partition  entry_date entry_channel  active_customer  \\\n",
      "Unnamed: 0                                                                    \n",
      "0           1375586   2018-01-28  2018-01-12           KHL              1.0   \n",
      "1           1050611   2018-01-28  2015-08-10           KHE              0.0   \n",
      "2           1050612   2018-01-28  2015-08-10           KHE              0.0   \n",
      "3           1050613   2018-01-28  2015-08-10           KHD              0.0   \n",
      "4           1050614   2018-01-28  2015-08-10           KHE              1.0   \n",
      "\n",
      "                       segment  \n",
      "Unnamed: 0                      \n",
      "0            02 - PARTICULARES  \n",
      "1           03 - UNIVERSITARIO  \n",
      "2           03 - UNIVERSITARIO  \n",
      "3           03 - UNIVERSITARIO  \n",
      "4           03 - UNIVERSITARIO  \n"
     ]
    }
   ],
   "source": [
    "print(df_init.head())"
   ]
  }
 ],
 "metadata": {
  "kernelspec": {
   "display_name": "Python 3",
   "language": "python",
   "name": "python3"
  },
  "language_info": {
   "codemirror_mode": {
    "name": "ipython",
    "version": 3
   },
   "file_extension": ".py",
   "mimetype": "text/x-python",
   "name": "python",
   "nbconvert_exporter": "python",
   "pygments_lexer": "ipython3",
   "version": "3.12.1"
  }
 },
 "nbformat": 4,
 "nbformat_minor": 2
}
