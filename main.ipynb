{
 "cells": [
  {
   "cell_type": "code",
   "execution_count": null,
   "metadata": {},
   "outputs": [],
   "source": [
    "#Esto es un cuaderno, para realizar el proyecto paso a paso"
   ]
  },
  {
   "cell_type": "markdown",
   "metadata": {},
   "source": [
    "Importamos librerias necesarias en la limpieza de datos (no olvidar instalar las libreras necesarias con pip install .. antes de importarlas)"
   ]
  },
  {
   "cell_type": "code",
   "execution_count": 4,
   "metadata": {},
   "outputs": [],
   "source": [
    "import pandas as pd\n",
    "import numpy as np\n",
    "import matplotlib.pyplot as plt\n",
    "import seaborn as sns\n",
    "\n",
    "from sklearn.preprocessing import LabelEncoder,MinMaxScaler,OrdinalEncoder\n",
    "\n",
    "import folium\n",
    "import plotly.express as px\n"
   ]
  },
  {
   "cell_type": "markdown",
   "metadata": {},
   "source": [
    "Leemos el primer csv, y lo asignamos como nuestro dataframe. Imprimimos las primeras lineas para tener una idea del dataframe"
   ]
  },
  {
   "cell_type": "code",
   "execution_count": 7,
   "metadata": {},
   "outputs": [
    {
     "name": "stdout",
     "output_type": "stream",
     "text": [
      "   Unnamed: 0   pk_cid pk_partition  entry_date entry_channel  \\\n",
      "0           0  1375586   2018-01-28  2018-01-12           KHL   \n",
      "1           1  1050611   2018-01-28  2015-08-10           KHE   \n",
      "2           2  1050612   2018-01-28  2015-08-10           KHE   \n",
      "3           3  1050613   2018-01-28  2015-08-10           KHD   \n",
      "4           4  1050614   2018-01-28  2015-08-10           KHE   \n",
      "\n",
      "   active_customer             segment  \n",
      "0              1.0   02 - PARTICULARES  \n",
      "1              0.0  03 - UNIVERSITARIO  \n",
      "2              0.0  03 - UNIVERSITARIO  \n",
      "3              0.0  03 - UNIVERSITARIO  \n",
      "4              1.0  03 - UNIVERSITARIO  \n"
     ]
    }
   ],
   "source": [
    "df_ca=pd.read_csv(\"commercial_activity_df.csv\")\n",
    "print(df_ca.head())"
   ]
  },
  {
   "cell_type": "markdown",
   "metadata": {},
   "source": [
    "Obtenemos informacion general del dataframe con  los metodos .describe() e .info()"
   ]
  },
  {
   "cell_type": "code",
   "execution_count": 9,
   "metadata": {},
   "outputs": [
    {
     "name": "stdout",
     "output_type": "stream",
     "text": [
      "<class 'pandas.core.frame.DataFrame'>\n",
      "RangeIndex: 5962924 entries, 0 to 5962923\n",
      "Data columns (total 7 columns):\n",
      " #   Column           Dtype  \n",
      "---  ------           -----  \n",
      " 0   Unnamed: 0       int64  \n",
      " 1   pk_cid           int64  \n",
      " 2   pk_partition     object \n",
      " 3   entry_date       object \n",
      " 4   entry_channel    object \n",
      " 5   active_customer  float64\n",
      " 6   segment          object \n",
      "dtypes: float64(1), int64(2), object(4)\n",
      "memory usage: 318.5+ MB\n"
     ]
    }
   ],
   "source": [
    "df_ca.info()"
   ]
  },
  {
   "cell_type": "markdown",
   "metadata": {},
   "source": [
    "Vemos que existe una columna de numeros, que coincide con el numero de los registros, pero que no es el indice, llamada Unnamed. Vamos a cambiar el nombre a esta columna y asignarla como indice."
   ]
  },
  {
   "cell_type": "code",
   "execution_count": 10,
   "metadata": {},
   "outputs": [],
   "source": [
    "n_index = 'Index'\n",
    "df_ca = df_ca.rename_axis(n_index).reset_index()"
   ]
  },
  {
   "cell_type": "code",
   "execution_count": 11,
   "metadata": {},
   "outputs": [],
   "source": [
    "df_ca.set_index('Index', inplace=True)"
   ]
  },
  {
   "cell_type": "markdown",
   "metadata": {},
   "source": [
    "Comprobamos que el indice ahora es correcto, pero nos sobra la columna Unnamed, la borramos con del"
   ]
  },
  {
   "cell_type": "code",
   "execution_count": 15,
   "metadata": {},
   "outputs": [
    {
     "name": "stdout",
     "output_type": "stream",
     "text": [
      "        pk_cid pk_partition  entry_date entry_channel  active_customer  \\\n",
      "Index                                                                    \n",
      "0      1375586   2018-01-28  2018-01-12           KHL              1.0   \n",
      "1      1050611   2018-01-28  2015-08-10           KHE              0.0   \n",
      "2      1050612   2018-01-28  2015-08-10           KHE              0.0   \n",
      "3      1050613   2018-01-28  2015-08-10           KHD              0.0   \n",
      "4      1050614   2018-01-28  2015-08-10           KHE              1.0   \n",
      "\n",
      "                  segment  \n",
      "Index                      \n",
      "0       02 - PARTICULARES  \n",
      "1      03 - UNIVERSITARIO  \n",
      "2      03 - UNIVERSITARIO  \n",
      "3      03 - UNIVERSITARIO  \n",
      "4      03 - UNIVERSITARIO  \n"
     ]
    }
   ],
   "source": [
    "print(df_ca.head())"
   ]
  },
  {
   "cell_type": "code",
   "execution_count": 14,
   "metadata": {},
   "outputs": [],
   "source": [
    "del(df_ca[\"Unnamed: 0\"])"
   ]
  },
  {
   "cell_type": "code",
   "execution_count": 16,
   "metadata": {},
   "outputs": [
    {
     "name": "stdout",
     "output_type": "stream",
     "text": [
      "        pk_cid pk_partition  entry_date entry_channel  active_customer  \\\n",
      "Index                                                                    \n",
      "0      1375586   2018-01-28  2018-01-12           KHL              1.0   \n",
      "1      1050611   2018-01-28  2015-08-10           KHE              0.0   \n",
      "2      1050612   2018-01-28  2015-08-10           KHE              0.0   \n",
      "3      1050613   2018-01-28  2015-08-10           KHD              0.0   \n",
      "4      1050614   2018-01-28  2015-08-10           KHE              1.0   \n",
      "\n",
      "                  segment  \n",
      "Index                      \n",
      "0       02 - PARTICULARES  \n",
      "1      03 - UNIVERSITARIO  \n",
      "2      03 - UNIVERSITARIO  \n",
      "3      03 - UNIVERSITARIO  \n",
      "4      03 - UNIVERSITARIO  \n"
     ]
    }
   ],
   "source": [
    "print(df_ca.head())"
   ]
  }
 ],
 "metadata": {
  "kernelspec": {
   "display_name": "Python 3",
   "language": "python",
   "name": "python3"
  },
  "language_info": {
   "codemirror_mode": {
    "name": "ipython",
    "version": 3
   },
   "file_extension": ".py",
   "mimetype": "text/x-python",
   "name": "python",
   "nbconvert_exporter": "python",
   "pygments_lexer": "ipython3",
   "version": "3.12.1"
  }
 },
 "nbformat": 4,
 "nbformat_minor": 2
}
